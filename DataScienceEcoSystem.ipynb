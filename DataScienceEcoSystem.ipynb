{
 "cells": [
  {
   "cell_type": "markdown",
   "id": "22ea484b-fe16-41f6-b713-78f4cea6add4",
   "metadata": {},
   "source": [
    "# H1 DataScienceEcosystem"
   ]
  },
  {
   "cell_type": "markdown",
   "id": "5f2b03cb-c0d5-45ca-b17b-2a3b4add667e",
   "metadata": {},
   "source": [
    "In this notebook, Data Science Tools and Ecosystem are summarised."
   ]
  },
  {
   "cell_type": "markdown",
   "id": "cedad6e2-aa5b-4313-807b-70033c826f54",
   "metadata": {},
   "source": [
    "# Objectives\n",
    "- List popular languages for data science\n",
    "- List commonly user libraries in data science\n",
    "- Calculate arithmatic expressions using Python"
   ]
  },
  {
   "cell_type": "code",
   "execution_count": null,
   "id": "0c30832e-c526-4c04-beda-03b9552263ed",
   "metadata": {},
   "outputs": [],
   "source": [
    "Some of the most popular languages that data scientist use are;\n",
    "1. Python.\n",
    "2. R\n",
    "3. SQL\n",
    "4. Java\n",
    "5. Julia\n",
    "6. Scala"
   ]
  },
  {
   "cell_type": "code",
   "execution_count": null,
   "id": "566ff059-6f0a-46b8-a46c-a816eb77bfc5",
   "metadata": {},
   "outputs": [],
   "source": [
    "Some of the most commonly used libraries used by data scientists are;\n",
    "1. NumPy\n",
    "2. Scikit\n",
    "3. Matplotlib\n",
    "4. Pandas"
   ]
  },
  {
   "cell_type": "markdown",
   "id": "e43da061-7ee8-4c15-a2bb-63fa70e383fa",
   "metadata": {},
   "source": [
    "| Data Science Tools |\n",
    "|--------------------|\n",
    "| Jupyter Notebook/Jupyter Lab |\n",
    "| RStudio |\n",
    "| Google Colab |"
   ]
  },
  {
   "cell_type": "markdown",
   "id": "429ec6ce-3d92-4c14-816e-0d7f72ba112b",
   "metadata": {},
   "source": [
    "# H1 Arythmatic expressions can be caluclated in Python\n",
    "## H2\n",
    "### H3 Below are a few examples of evaluating arythmatic expressions in python"
   ]
  },
  {
   "cell_type": "markdown",
   "id": "40e089df-78ed-4e4c-a40e-77a7483762da",
   "metadata": {},
   "source": [
    "# This is a simple arithmatic expression to multiply and then add integers"
   ]
  },
  {
   "cell_type": "code",
   "execution_count": 5,
   "id": "1e1014c1-4b09-4ac5-bc70-d4abae598b09",
   "metadata": {},
   "outputs": [
    {
     "data": {
      "text/plain": [
       "17"
      ]
     },
     "execution_count": 5,
     "metadata": {},
     "output_type": "execute_result"
    }
   ],
   "source": [
    "(3*4)+5"
   ]
  },
  {
   "cell_type": "markdown",
   "id": "d750c436-642a-495d-a2fc-2a899a44eeab",
   "metadata": {},
   "source": [
    "#This will convert 200 minutes to hours by dividing by 60"
   ]
  },
  {
   "cell_type": "code",
   "execution_count": 6,
   "id": "7ce8e256-91ed-4899-a1c6-4707d1acf754",
   "metadata": {},
   "outputs": [
    {
     "data": {
      "text/plain": [
       "3.3333333333333335"
      ]
     },
     "execution_count": 6,
     "metadata": {},
     "output_type": "execute_result"
    }
   ],
   "source": [
    "200/60"
   ]
  },
  {
   "cell_type": "markdown",
   "id": "5abde250-98bf-49e0-939b-5033958567ff",
   "metadata": {},
   "source": [
    "## H2 Author\n",
    "Jamie Newton"
   ]
  }
 ],
 "metadata": {
  "kernelspec": {
   "display_name": "Python [conda env:base] *",
   "language": "python",
   "name": "conda-base-py"
  },
  "language_info": {
   "codemirror_mode": {
    "name": "ipython",
    "version": 3
   },
   "file_extension": ".py",
   "mimetype": "text/x-python",
   "name": "python",
   "nbconvert_exporter": "python",
   "pygments_lexer": "ipython3",
   "version": "3.13.5"
  }
 },
 "nbformat": 4,
 "nbformat_minor": 5
}
